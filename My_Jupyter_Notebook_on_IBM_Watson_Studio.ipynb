{
  "nbformat": 4,
  "nbformat_minor": 0,
  "metadata": {
    "colab": {
      "provenance": [],
      "authorship_tag": "ABX9TyPV3BnGMOXzvrkwkZPuXJ7t",
      "include_colab_link": true
    },
    "kernelspec": {
      "name": "python3",
      "display_name": "Python 3"
    },
    "language_info": {
      "name": "python"
    }
  },
  "cells": [
    {
      "cell_type": "markdown",
      "metadata": {
        "id": "view-in-github",
        "colab_type": "text"
      },
      "source": [
        "<a href=\"https://colab.research.google.com/github/MigueLesPaul/tropishelf/blob/master/My_Jupyter_Notebook_on_IBM_Watson_Studio.ipynb\" target=\"_parent\"><img src=\"https://colab.research.google.com/assets/colab-badge.svg\" alt=\"Open In Colab\"/></a>"
      ]
    },
    {
      "cell_type": "markdown",
      "source": [
        "# My Jupyter Notebook on IBM Watson Studio\n"
      ],
      "metadata": {
        "id": "BZ6KTB4Ge7XY"
      }
    },
    {
      "cell_type": "markdown",
      "source": [
        "**Miguel Hinojosa Fernández**\n",
        "Current ocupation: Assitant Researcher"
      ],
      "metadata": {
        "id": "_00SUyJlfG5U"
      }
    },
    {
      "cell_type": "markdown",
      "source": [
        "*I am interested in Data Science because I started studying atmospheric physics and meteorology. This lead to the first encounters with programming and modelling and eventually, the advantages of using new methodologies used outside of the atmospheric sciences introduced me to the concepts of data science.*"
      ],
      "metadata": {
        "id": "5jMApFBOfMcU"
      }
    },
    {
      "cell_type": "markdown",
      "source": [
        "### In the next cell I will be calculating the mean of an array"
      ],
      "metadata": {
        "id": "1WCHMhJPgYkR"
      }
    },
    {
      "cell_type": "code",
      "source": [
        "import numpy as np\n",
        "np.array([4,5,6,7,3,4,5,5,4,8.7]).mean()"
      ],
      "metadata": {
        "colab": {
          "base_uri": "https://localhost:8080/"
        },
        "id": "BTTqp5P8ga2a",
        "outputId": "03f70b1c-abc4-4878-d45e-8790bbdcd170"
      },
      "execution_count": 3,
      "outputs": [
        {
          "output_type": "execute_result",
          "data": {
            "text/plain": [
              "5.17"
            ]
          },
          "metadata": {},
          "execution_count": 3
        }
      ]
    },
    {
      "cell_type": "markdown",
      "source": [
        "\n",
        "[IBM Developer](http://ml-exchange.org/) \n",
        "\n",
        "- Free open source deep learning microservices:\n",
        "\t- Use pre-trained or custom-trainable state of the art models\n",
        "\t- Fully tested, deploy in minutes \n",
        "\t- Approved for personal and commercial use\n",
        "  - ~Job finding~\n",
        "\n",
        "Examples of array manipulation:\n",
        "  ```\n",
        "    def update_rates():\n",
        "    conn=sql.connect(database_file)\n",
        "    rates = Tasa_de_cambio\n",
        "    for i in range(len(currencies)):\n",
        "        for j in range(len(currencies)):\n",
        "            if i==j:continue\n",
        "                \n",
        "            pair= \"{}-{}\".format(currencies[i].upper(),currencies[j].upper())\n",
        "            #print(pair)\n",
        "\n",
        "            if pair not in rates and 'CUP' in pair:\n",
        "                \n",
        "                #Conversiones a CUP   ### todo, mejorar esto y hacerlo genérico a cada tasa intermedia\n",
        "                if pair[-3:]=='CUP':\n",
        "                    temprate=\"{}-CUC\".format(pair[:3])\n",
        "                    value=1*rates[temprate]*rates['CUC-CUP']\n",
        "                if pair[:3]=='CUP':\n",
        "                    temprate=\"CUC-{}\".format(pair[-3:])\n",
        "                    value=1/float(rates['CUP-CUC']*rates[temprate])\n",
        "                    value=1/value\n",
        "                    #print(value)\n",
        "                rates[pair]=value\n",
        "    return rates\n",
        "  ```"
      ],
      "metadata": {
        "id": "JDrFlMpOg0l8"
      }
    },
    {
      "cell_type": "code",
      "source": [],
      "metadata": {
        "id": "AWYphEpnhmfx"
      },
      "execution_count": null,
      "outputs": []
    }
  ]
}